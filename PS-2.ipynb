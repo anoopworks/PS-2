{
  "nbformat": 4,
  "nbformat_minor": 0,
  "metadata": {
    "colab": {
      "provenance": [],
      "gpuType": "T4"
    },
    "kernelspec": {
      "name": "python3",
      "display_name": "Python 3"
    },
    "language_info": {
      "name": "python"
    },
    "accelerator": "GPU"
  },
  "cells": [
    {
      "cell_type": "markdown",
      "source": [
        "## **Compound V2 Risk Scoring Model**"
      ],
      "metadata": {
        "id": "GvbjMn1nFdYx"
      }
    },
    {
      "cell_type": "code",
      "source": [
        "# Install dependencies\n",
        "!pip install pandas numpy scikit-learn matplotlib seaborn web3 -q"
      ],
      "metadata": {
        "colab": {
          "base_uri": "https://localhost:8080/"
        },
        "id": "N15dM1NKFWA5",
        "outputId": "e2c909a1-60ca-4f12-c6da-75e0f1afa3e8"
      },
      "execution_count": 1,
      "outputs": [
        {
          "output_type": "stream",
          "name": "stdout",
          "text": [
            "\u001b[?25l   \u001b[90m━━━━━━━━━━━━━━━━━━━━━━━━━━━━━━━━━━━━━━━━\u001b[0m \u001b[32m0.0/1.4 MB\u001b[0m \u001b[31m?\u001b[0m eta \u001b[36m-:--:--\u001b[0m\r\u001b[2K   \u001b[90m━━━━━━━━━━━━━━━━━━━━━━━━━━━━━━━━━━━━━━━━\u001b[0m \u001b[32m1.4/1.4 MB\u001b[0m \u001b[31m47.0 MB/s\u001b[0m eta \u001b[36m0:00:00\u001b[0m\n",
            "\u001b[?25h\u001b[?25l   \u001b[90m━━━━━━━━━━━━━━━━━━━━━━━━━━━━━━━━━━━━━━━━\u001b[0m \u001b[32m0.0/587.5 kB\u001b[0m \u001b[31m?\u001b[0m eta \u001b[36m-:--:--\u001b[0m\r\u001b[2K   \u001b[90m━━━━━━━━━━━━━━━━━━━━━━━━━━━━━━━━━━━━━━━━\u001b[0m \u001b[32m587.5/587.5 kB\u001b[0m \u001b[31m37.7 MB/s\u001b[0m eta \u001b[36m0:00:00\u001b[0m\n",
            "\u001b[?25h\u001b[?25l   \u001b[90m━━━━━━━━━━━━━━━━━━━━━━━━━━━━━━━━━━━━━━━━\u001b[0m \u001b[32m0.0/102.5 kB\u001b[0m \u001b[31m?\u001b[0m eta \u001b[36m-:--:--\u001b[0m\r\u001b[2K   \u001b[90m━━━━━━━━━━━━━━━━━━━━━━━━━━━━━━━━━━━━━━━━\u001b[0m \u001b[32m102.5/102.5 kB\u001b[0m \u001b[31m8.5 MB/s\u001b[0m eta \u001b[36m0:00:00\u001b[0m\n",
            "\u001b[?25h\u001b[?25l   \u001b[90m━━━━━━━━━━━━━━━━━━━━━━━━━━━━━━━━━━━━━━━━\u001b[0m \u001b[32m0.0/49.2 kB\u001b[0m \u001b[31m?\u001b[0m eta \u001b[36m-:--:--\u001b[0m\r\u001b[2K   \u001b[90m━━━━━━━━━━━━━━━━━━━━━━━━━━━━━━━━━━━━━━━━\u001b[0m \u001b[32m49.2/49.2 kB\u001b[0m \u001b[31m4.2 MB/s\u001b[0m eta \u001b[36m0:00:00\u001b[0m\n",
            "\u001b[?25h\u001b[?25l   \u001b[90m━━━━━━━━━━━━━━━━━━━━━━━━━━━━━━━━━━━━━━━━\u001b[0m \u001b[32m0.0/320.1 kB\u001b[0m \u001b[31m?\u001b[0m eta \u001b[36m-:--:--\u001b[0m\r\u001b[2K   \u001b[90m━━━━━━━━━━━━━━━━━━━━━━━━━━━━━━━━━━━━━━━━\u001b[0m \u001b[32m320.1/320.1 kB\u001b[0m \u001b[31m23.7 MB/s\u001b[0m eta \u001b[36m0:00:00\u001b[0m\n",
            "\u001b[2K   \u001b[90m━━━━━━━━━━━━━━━━━━━━━━━━━━━━━━━━━━━━━━━━\u001b[0m \u001b[32m170.5/170.5 kB\u001b[0m \u001b[31m13.2 MB/s\u001b[0m eta \u001b[36m0:00:00\u001b[0m\n",
            "\u001b[2K   \u001b[90m━━━━━━━━━━━━━━━━━━━━━━━━━━━━━━━━━━━━━━━━\u001b[0m \u001b[32m2.1/2.1 MB\u001b[0m \u001b[31m23.0 MB/s\u001b[0m eta \u001b[36m0:00:00\u001b[0m\n",
            "\u001b[2K   \u001b[90m━━━━━━━━━━━━━━━━━━━━━━━━━━━━━━━━━━━━━━━━\u001b[0m \u001b[32m48.4/48.4 kB\u001b[0m \u001b[31m4.1 MB/s\u001b[0m eta \u001b[36m0:00:00\u001b[0m\n",
            "\u001b[2K   \u001b[90m━━━━━━━━━━━━━━━━━━━━━━━━━━━━━━━━━━━━━━━━\u001b[0m \u001b[32m2.3/2.3 MB\u001b[0m \u001b[31m69.0 MB/s\u001b[0m eta \u001b[36m0:00:00\u001b[0m\n",
            "\u001b[?25h"
          ]
        }
      ]
    },
    {
      "cell_type": "markdown",
      "source": [
        "Unzipping the JSON files zip"
      ],
      "metadata": {
        "id": "eTyOXy9QWALP"
      }
    },
    {
      "cell_type": "code",
      "source": [
        "!unzip \"/content/compound_v2.zip\" -d \"/content/compound_data\""
      ],
      "metadata": {
        "colab": {
          "base_uri": "https://localhost:8080/"
        },
        "id": "iLQ1z38OGlCb",
        "outputId": "c3ac7eb4-845c-4871-d9c1-65a6dec2793d"
      },
      "execution_count": 10,
      "outputs": [
        {
          "output_type": "stream",
          "name": "stdout",
          "text": [
            "Archive:  /content/compound_v2.zip\n",
            "  inflating: /content/compound_data/compoundV2_transactions_ethereum_chunk_91.json  \n",
            "  inflating: /content/compound_data/compoundV2_transactions_ethereum_chunk_72.json  \n",
            "  inflating: /content/compound_data/compoundV2_transactions_ethereum_chunk_80.json  \n",
            "  inflating: /content/compound_data/compoundV2_transactions_ethereum_chunk_64.json  \n",
            "  inflating: /content/compound_data/compoundV2_transactions_ethereum_chunk_86.json  \n",
            "  inflating: /content/compound_data/compoundV2_transactions_ethereum_chunk_59.json  \n",
            "  inflating: /content/compound_data/compoundV2_transactions_ethereum_chunk_79.json  \n",
            "  inflating: /content/compound_data/compoundV2_transactions_ethereum_chunk_84.json  \n",
            "  inflating: /content/compound_data/compoundV2_transactions_ethereum_chunk_76.json  \n",
            "  inflating: /content/compound_data/compoundV2_transactions_ethereum_chunk_85.json  \n",
            "  inflating: /content/compound_data/compoundV2_transactions_ethereum_chunk_55.json  \n",
            "  inflating: /content/compound_data/compoundV2_transactions_ethereum_chunk_89.json  \n",
            "  inflating: /content/compound_data/compoundV2_transactions_ethereum_chunk_29.json  \n",
            "  inflating: /content/compound_data/compoundV2_transactions_ethereum_chunk_48.json  \n",
            "  inflating: /content/compound_data/compoundV2_transactions_ethereum_chunk_57.json  \n",
            "  inflating: /content/compound_data/compoundV2_transactions_ethereum_chunk_53.json  \n",
            "  inflating: /content/compound_data/compoundV2_transactions_ethereum_chunk_51.json  \n",
            "  inflating: /content/compound_data/compoundV2_transactions_ethereum_chunk_23.json  \n",
            "  inflating: /content/compound_data/compoundV2_transactions_ethereum_chunk_0.json  \n",
            "  inflating: /content/compound_data/compoundV2_transactions_ethereum_chunk_27.json  \n",
            "  inflating: /content/compound_data/compoundV2_transactions_ethereum_chunk_32.json  \n",
            "  inflating: /content/compound_data/compoundV2_transactions_ethereum_chunk_78.json  \n",
            "  inflating: /content/compound_data/compoundV2_transactions_ethereum_chunk_65.json  \n",
            "  inflating: /content/compound_data/compoundV2_transactions_ethereum_chunk_33.json  \n",
            "  inflating: /content/compound_data/compoundV2_transactions_ethereum_chunk_87.json  \n",
            "  inflating: /content/compound_data/compoundV2_transactions_ethereum_chunk_93.json  \n",
            "  inflating: /content/compound_data/compoundV2_transactions_ethereum_chunk_90.json  \n",
            "  inflating: /content/compound_data/compoundV2_transactions_ethereum_chunk_54.json  \n",
            "  inflating: /content/compound_data/compoundV2_transactions_ethereum_chunk_19.json  \n",
            "  inflating: /content/compound_data/compoundV2_transactions_ethereum_chunk_83.json  \n",
            "  inflating: /content/compound_data/compoundV2_transactions_ethereum_chunk_50.json  \n",
            "  inflating: /content/compound_data/compoundV2_transactions_ethereum_chunk_69.json  \n",
            "  inflating: /content/compound_data/compoundV2_transactions_ethereum_chunk_47.json  \n",
            "  inflating: /content/compound_data/compoundV2_transactions_ethereum_chunk_10.json  \n",
            "  inflating: /content/compound_data/compoundV2_transactions_ethereum_chunk_66.json  \n",
            "  inflating: /content/compound_data/compoundV2_transactions_ethereum_chunk_38.json  \n",
            "  inflating: /content/compound_data/compoundV2_transactions_ethereum_chunk_3.json  \n",
            "  inflating: /content/compound_data/compoundV2_transactions_ethereum_chunk_30.json  \n",
            "  inflating: /content/compound_data/compoundV2_transactions_ethereum_chunk_2.json  \n",
            "  inflating: /content/compound_data/compoundV2_transactions_ethereum_chunk_16.json  \n",
            "  inflating: /content/compound_data/compoundV2_transactions_ethereum_chunk_20.json  \n",
            "  inflating: /content/compound_data/compoundV2_transactions_ethereum_chunk_5.json  \n",
            "  inflating: /content/compound_data/compoundV2_transactions_ethereum_chunk_56.json  \n",
            "  inflating: /content/compound_data/compoundV2_transactions_ethereum_chunk_9.json  \n",
            "  inflating: /content/compound_data/compoundV2_transactions_ethereum_chunk_70.json  \n",
            "  inflating: /content/compound_data/compoundV2_transactions_ethereum_chunk_58.json  \n",
            "  inflating: /content/compound_data/compoundV2_transactions_ethereum_chunk_21.json  \n",
            "  inflating: /content/compound_data/compoundV2_transactions_ethereum_chunk_42.json  \n",
            "  inflating: /content/compound_data/compoundV2_transactions_ethereum_chunk_1.json  \n",
            "  inflating: /content/compound_data/compoundV2_transactions_ethereum_chunk_61.json  \n",
            "  inflating: /content/compound_data/compoundV2_transactions_ethereum_chunk_40.json  \n",
            "  inflating: /content/compound_data/compoundV2_transactions_ethereum_chunk_31.json  \n",
            "  inflating: /content/compound_data/compoundV2_transactions_ethereum_chunk_13.json  \n",
            "  inflating: /content/compound_data/compoundV2_transactions_ethereum_chunk_25.json  \n",
            "  inflating: /content/compound_data/compoundV2_transactions_ethereum_chunk_82.json  \n",
            "  inflating: /content/compound_data/compoundV2_transactions_ethereum_chunk_75.json  \n",
            "  inflating: /content/compound_data/compoundV2_transactions_ethereum_chunk_71.json  \n",
            "  inflating: /content/compound_data/compoundV2_transactions_ethereum_chunk_77.json  \n",
            "  inflating: /content/compound_data/compoundV2_transactions_ethereum_chunk_17.json  \n",
            "  inflating: /content/compound_data/compoundV2_transactions_ethereum_chunk_73.json  \n",
            "  inflating: /content/compound_data/compoundV2_transactions_ethereum_chunk_15.json  \n",
            "  inflating: /content/compound_data/compoundV2_transactions_ethereum_chunk_92.json  \n",
            "  inflating: /content/compound_data/compoundV2_transactions_ethereum_chunk_14.json  \n",
            "  inflating: /content/compound_data/compoundV2_transactions_ethereum_chunk_8.json  \n",
            "  inflating: /content/compound_data/compoundV2_transactions_ethereum_chunk_26.json  \n",
            "  inflating: /content/compound_data/compoundV2_transactions_ethereum_chunk_22.json  \n",
            "  inflating: /content/compound_data/compoundV2_transactions_ethereum_chunk_81.json  \n",
            "  inflating: /content/compound_data/compoundV2_transactions_ethereum_chunk_34.json  \n",
            "  inflating: /content/compound_data/compoundV2_transactions_ethereum_chunk_44.json  \n",
            "  inflating: /content/compound_data/compoundV2_transactions_ethereum_chunk_67.json  \n",
            "  inflating: /content/compound_data/compoundV2_transactions_ethereum_chunk_39.json  \n",
            "  inflating: /content/compound_data/compoundV2_transactions_ethereum_chunk_49.json  \n",
            "  inflating: /content/compound_data/compoundV2_transactions_ethereum_chunk_6.json  \n",
            "  inflating: /content/compound_data/compoundV2_transactions_ethereum_chunk_18.json  \n",
            "  inflating: /content/compound_data/compoundV2_transactions_ethereum_chunk_12.json  \n",
            "  inflating: /content/compound_data/compoundV2_transactions_ethereum_chunk_46.json  \n",
            "  inflating: /content/compound_data/compoundV2_transactions_ethereum_chunk_45.json  \n",
            "  inflating: /content/compound_data/compoundV2_transactions_ethereum_chunk_68.json  \n",
            "  inflating: /content/compound_data/compoundV2_transactions_ethereum_chunk_4.json  \n",
            "  inflating: /content/compound_data/compoundV2_transactions_ethereum_chunk_94.json  \n",
            "  inflating: /content/compound_data/compoundV2_transactions_ethereum_chunk_28.json  \n",
            "  inflating: /content/compound_data/compoundV2_transactions_ethereum_chunk_62.json  \n",
            "  inflating: /content/compound_data/compoundV2_transactions_ethereum_chunk_74.json  \n",
            "  inflating: /content/compound_data/compoundV2_transactions_ethereum_chunk_88.json  \n",
            "  inflating: /content/compound_data/compoundV2_transactions_ethereum_chunk_52.json  \n",
            "  inflating: /content/compound_data/compoundV2_transactions_ethereum_chunk_36.json  \n",
            "  inflating: /content/compound_data/compoundV2_transactions_ethereum_chunk_37.json  \n",
            "  inflating: /content/compound_data/compoundV2_transactions_ethereum_chunk_63.json  \n",
            "  inflating: /content/compound_data/compoundV2_transactions_ethereum_chunk_35.json  \n",
            "  inflating: /content/compound_data/compoundV2_transactions_ethereum_chunk_7.json  \n",
            "  inflating: /content/compound_data/compoundV2_transactions_ethereum_chunk_41.json  \n",
            "  inflating: /content/compound_data/compoundV2_transactions_ethereum_chunk_43.json  \n",
            "  inflating: /content/compound_data/compoundV2_transactions_ethereum_chunk_11.json  \n",
            "  inflating: /content/compound_data/compoundV2_transactions_ethereum_chunk_95.json  \n",
            "  inflating: /content/compound_data/compoundV2_transactions_ethereum_chunk_24.json  \n",
            "  inflating: /content/compound_data/compoundV2_transactions_ethereum_chunk_60.json  \n"
          ]
        }
      ]
    },
    {
      "cell_type": "code",
      "source": [
        "# Import libraries\n",
        "from sklearn.preprocessing import StandardScaler\n",
        "from sklearn.ensemble import IsolationForest\n",
        "from sklearn.cluster import KMeans\n",
        "from collections import defaultdict\n",
        "from datetime import datetime\n",
        "import json\n",
        "import pandas as pd\n",
        "import numpy as np\n",
        "import seaborn as sns\n",
        "import matplotlib.pyplot as plt"
      ],
      "metadata": {
        "id": "hnHsPFeCF_nr"
      },
      "execution_count": 2,
      "outputs": []
    },
    {
      "cell_type": "markdown",
      "source": [
        "Merging all the JSON files in the Combined V2 dataset into a single JSON file"
      ],
      "metadata": {
        "id": "Htk7OqbcWGxp"
      }
    },
    {
      "cell_type": "code",
      "source": [
        "#Concatenating all the JSONS\n",
        "import os\n",
        "import json\n",
        "merged_data = []\n",
        "folder_path = '/content/compound_data'\n",
        "def get_final_json(path):\n",
        "  # List all JSON files in the folder\n",
        "  for filename in sorted(os.listdir(folder_path)):\n",
        "      if filename.endswith('.json'):\n",
        "          file_path = os.path.join(folder_path, filename)\n",
        "          with open(file_path, 'r', encoding='utf-8') as f:\n",
        "              data = json.load(f)\n",
        "              if isinstance(data, list):\n",
        "                  merged_data.extend(data)\n",
        "              else:\n",
        "                  merged_data.append(data)  # for non-list JSON\n",
        "get_final_json(folder_path)"
      ],
      "metadata": {
        "id": "SklfWRSuHSew"
      },
      "execution_count": 12,
      "outputs": []
    },
    {
      "cell_type": "code",
      "source": [
        "# output_file = os.path.join('/content/', 'merged_output.json')\n",
        "# with open(output_file, 'w', encoding='utf-8') as f:\n",
        "#     json.dump(merged_data, f, indent=2, ensure_ascii=False)"
      ],
      "metadata": {
        "id": "0eOIXWU-JbVx"
      },
      "execution_count": 19,
      "outputs": []
    },
    {
      "cell_type": "markdown",
      "source": [
        "Viewing the individual key and its items to format the data as per our needs"
      ],
      "metadata": {
        "id": "IKOBr39_WYTw"
      }
    },
    {
      "cell_type": "code",
      "source": [
        "merged_data[0]['deposits'][0]"
      ],
      "metadata": {
        "colab": {
          "base_uri": "https://localhost:8080/"
        },
        "id": "VJbIzThzIZjK",
        "outputId": "c95cf351-ee87-418d-b8a4-cb364e649e53"
      },
      "execution_count": 17,
      "outputs": [
        {
          "output_type": "execute_result",
          "data": {
            "text/plain": [
              "{'account': {'id': '0x502cb8985b2c92a8d4bf309cdaa89de9be442708'},\n",
              " 'amount': '10000000000000000',\n",
              " 'amountUSD': '1.78010000000000014408',\n",
              " 'asset': {'id': '0xeeeeeeeeeeeeeeeeeeeeeeeeeeeeeeeeeeeeeeee',\n",
              "  'symbol': 'ETH'},\n",
              " 'hash': '0xa1b27194b198762eaa631564fea76008b363c157a1ccf9df5f1338b7c566fd3a',\n",
              " 'id': '0xa1b27194b198762eaa631564fea76008b363c157a1ccf9df5f1338b7c566fd3a-69',\n",
              " 'timestamp': '1557193282'}"
            ]
          },
          "metadata": {},
          "execution_count": 17
        }
      ]
    },
    {
      "cell_type": "markdown",
      "source": [
        "### Fetching the 100 Wallets given to us in Wallet id.csv"
      ],
      "metadata": {
        "id": "A9CtnrrXWlO3"
      }
    },
    {
      "cell_type": "code",
      "source": [
        "# List of 100 wallet addresses\n",
        "wallets = pd.read_excel('/content/Wallet id.xlsx')\n",
        "# convert this into a list having all the wallet ids\n",
        "wallets_list = wallets['wallet_id'].tolist()\n",
        "wallets_list[0]"
      ],
      "metadata": {
        "colab": {
          "base_uri": "https://localhost:8080/",
          "height": 35
        },
        "id": "vy5kAiX8FYet",
        "outputId": "d90f361f-5a00-4e89-8cd5-80434850e197"
      },
      "execution_count": 20,
      "outputs": [
        {
          "output_type": "execute_result",
          "data": {
            "text/plain": [
              "'0x0039f22efb07a647557c7c5d17854cfd6d489ef3'"
            ],
            "application/vnd.google.colaboratory.intrinsic+json": {
              "type": "string"
            }
          },
          "metadata": {},
          "execution_count": 20
        }
      ]
    },
    {
      "cell_type": "markdown",
      "source": [
        "## Formatting and creating a dictionary which can be converted to a dataframe and has the keys as Wallet ids and all their corresponding transaction details."
      ],
      "metadata": {
        "id": "a-I8e9gmW3Cv"
      }
    },
    {
      "cell_type": "code",
      "source": [
        "import json\n",
        "import os\n",
        "\n",
        "# Path to your folder with JSON files\n",
        "folder_path = '/content/compound_data'\n",
        "\n",
        "# Your list of wallet IDs\n",
        "wallet_ids = wallets_list.copy()\n",
        "\n",
        "# Set to lowercase for consistent comparison\n",
        "wallet_ids = set(w.lower() for w in wallet_ids)\n",
        "\n",
        "# Structure to store results per wallet\n",
        "wallet_transactions = {wallet: [] for wallet in wallet_ids}\n",
        "\n",
        "# Sections to search\n",
        "sections = ['deposits', 'withdraws', 'borrows', 'repays', 'liquidates']\n",
        "\n",
        "# Process each JSON file\n",
        "for filename in os.listdir(folder_path):\n",
        "    if filename.endswith('.json'):\n",
        "        with open(os.path.join(folder_path, filename), 'r', encoding='utf-8') as f:\n",
        "            try:\n",
        "                data = json.load(f)\n",
        "            except json.JSONDecodeError:\n",
        "                print(f\"Skipping invalid JSON: {filename}\")\n",
        "                continue\n",
        "\n",
        "            for section in sections:\n",
        "                for entry in data.get(section, []):\n",
        "                    wallet_id = entry.get('account', {}).get('id', '').lower()\n",
        "                    if wallet_id in wallet_ids:\n",
        "                        wallet_transactions[wallet_id].append({\n",
        "                            **entry,\n",
        "                            \"type\": section\n",
        "                        })\n",
        "\n",
        "# with open('filtered_wallet_transactions.json', 'w', encoding='utf-8') as f:\n",
        "#     json.dump(wallet_transactions, f, indent=2, ensure_ascii=False)\n",
        "\n",
        "print(\"DONE\")"
      ],
      "metadata": {
        "colab": {
          "base_uri": "https://localhost:8080/"
        },
        "id": "nf_LwGY8NkaC",
        "outputId": "03b4fdf0-d85d-471d-9624-c781b45b4eb6"
      },
      "execution_count": 70,
      "outputs": [
        {
          "output_type": "stream",
          "name": "stdout",
          "text": [
            "DONE\n"
          ]
        }
      ]
    },
    {
      "cell_type": "code",
      "source": [
        "wallet_transactions['0x0039f22efb07a647557c7c5d17854cfd6d489ef3'][0]"
      ],
      "metadata": {
        "colab": {
          "base_uri": "https://localhost:8080/"
        },
        "id": "lrzntxI1Of-i",
        "outputId": "934c90a4-85fa-4cb9-8976-4fedd29638d5"
      },
      "execution_count": 30,
      "outputs": [
        {
          "output_type": "execute_result",
          "data": {
            "text/plain": [
              "{'account': {'id': '0x0039f22efb07a647557c7c5d17854cfd6d489ef3'},\n",
              " 'amount': '58449551636',\n",
              " 'amountUSD': '58449.551636',\n",
              " 'asset': {'id': '0xa0b86991c6218b36c1d19d4a2e9eb0ce3606eb48',\n",
              "  'symbol': 'USDC'},\n",
              " 'hash': '0x335d36e0c44c2497a688e8d336527c4de11bcd9775dd748d61da8d7f1d641a34',\n",
              " 'id': '0x335d36e0c44c2497a688e8d336527c4de11bcd9775dd748d61da8d7f1d641a34-151',\n",
              " 'timestamp': '1612506281',\n",
              " 'type': 'withdraws'}"
            ]
          },
          "metadata": {},
          "execution_count": 30
        }
      ]
    },
    {
      "cell_type": "markdown",
      "source": [
        "Converting the dict to a dataframe"
      ],
      "metadata": {
        "id": "aP9TwKSJXNWW"
      }
    },
    {
      "cell_type": "code",
      "source": [
        "# Convert wallet_transactions to DataFrame\n",
        "def prepare_transaction_data(wallet_transactions):\n",
        "    records = []\n",
        "    for wallet_id, transactions in wallet_transactions.items():\n",
        "        for tx in transactions:\n",
        "            records.append({\n",
        "                'userWallet': tx['account']['id'],\n",
        "                'timestamp': int(tx['timestamp']),\n",
        "                'amount_usd': float(tx['amountUSD']),\n",
        "                'assetSymbol': tx['asset']['symbol'],\n",
        "                'action': tx['type'].lower()\n",
        "            })\n",
        "    df = pd.DataFrame(records)\n",
        "    df['timestamp'] = pd.to_datetime(df['timestamp'], unit='s')\n",
        "    return df"
      ],
      "metadata": {
        "id": "xRf_nfglQ5a9"
      },
      "execution_count": 35,
      "outputs": []
    },
    {
      "cell_type": "markdown",
      "source": [
        "## Feature Engineering"
      ],
      "metadata": {
        "id": "DqFJZQ-nXRYJ"
      }
    },
    {
      "cell_type": "code",
      "source": [
        "def engineer_features(df):\n",
        "    wallets = defaultdict(lambda: {\n",
        "        'num_transactions': 0,\n",
        "        'num_deposits': 0,\n",
        "        'total_deposit_usd': 0.0,\n",
        "        'num_borrows': 0,\n",
        "        'total_borrow_usd': 0.0,\n",
        "        'num_repays': 0,\n",
        "        'total_repay_usd': 0.0,\n",
        "        'num_liquidations': 0,\n",
        "        'total_liquidation_usd': 0.0,\n",
        "        'num_withdrawals': 0,\n",
        "        'total_withdrawal_usd': 0.0,\n",
        "        'unique_assets': set(),\n",
        "        'time_span': 0,\n",
        "        'borrow_to_deposit_ratio': 0.0,\n",
        "        'repay_to_borrow_ratio': 0.0,\n",
        "        'liquidation_to_borrow_ratio': 0.0\n",
        "    })\n",
        "\n",
        "    for _, row in df.iterrows():\n",
        "        wallet = row['userWallet']\n",
        "        action = row['action']\n",
        "        amount_usd = row['amount_usd']\n",
        "        asset = row['assetSymbol']\n",
        "        timestamp = row['timestamp']\n",
        "\n",
        "        wallets[wallet]['num_transactions'] += 1\n",
        "        wallets[wallet]['unique_assets'].add(asset)\n",
        "\n",
        "        if action == 'deposits':\n",
        "            wallets[wallet]['num_deposits'] += 1\n",
        "            wallets[wallet]['total_deposit_usd'] += amount_usd\n",
        "        elif action == 'borrows':\n",
        "            wallets[wallet]['num_borrows'] += 1\n",
        "            wallets[wallet]['total_borrow_usd'] += amount_usd\n",
        "        elif action == 'repays':\n",
        "            wallets[wallet]['num_repays'] += 1\n",
        "            wallets[wallet]['total_repay_usd'] += amount_usd\n",
        "        elif action == 'withdraws':\n",
        "            wallets[wallet]['num_withdrawals'] += 1\n",
        "            wallets[wallet]['total_withdrawal_usd'] += amount_usd\n",
        "        elif action == 'liquidates':\n",
        "            wallets[wallet]['num_liquidations'] += 1\n",
        "            wallets[wallet]['total_liquidation_usd'] += amount_usd\n",
        "\n",
        "    # Compute derived features\n",
        "    wallet_features = []\n",
        "    for wallet, stats in wallets.items():\n",
        "        stats['time_span'] = (df[df['userWallet'] == wallet]['timestamp'].max() -\n",
        "                              df[df['userWallet'] == wallet]['timestamp'].min()).days\n",
        "        stats['borrow_to_deposit_ratio'] = (stats['total_borrow_usd'] / stats['total_deposit_usd']\n",
        "                                            if stats['total_deposit_usd'] > 0 else 0)\n",
        "        stats['repay_to_borrow_ratio'] = (stats['total_repay_usd'] / stats['total_borrow_usd']\n",
        "                                          if stats['total_borrow_usd'] > 0 else 0)\n",
        "        stats['liquidation_to_borrow_ratio'] = (stats['total_liquidation_usd'] / stats['total_borrow_usd']\n",
        "                                                if stats['total_borrow_usd'] > 0 else 0)\n",
        "        stats['num_unique_assets'] = len(stats['unique_assets'])\n",
        "        wallet_features.append({\n",
        "            'wallet': wallet,\n",
        "            **{k: v for k, v in stats.items() if k != 'unique_assets'}\n",
        "        })\n",
        "\n",
        "    return pd.DataFrame(wallet_features)"
      ],
      "metadata": {
        "id": "j-NmXjtwQ-7d"
      },
      "execution_count": 36,
      "outputs": []
    },
    {
      "cell_type": "markdown",
      "source": [
        "## Computing Risk Scores for the 100 wallets using Anomoly Forest and K-Means"
      ],
      "metadata": {
        "id": "-b6davXTXYWO"
      }
    },
    {
      "cell_type": "code",
      "source": [
        "# Risk Scoring Function\n",
        "def compute_risk_scores(wallet_transactions):\n",
        "    # Prepare data\n",
        "    df = prepare_transaction_data(wallet_transactions)\n",
        "\n",
        "    # Engineer features\n",
        "    features_df = engineer_features(df)\n",
        "\n",
        "    # Standardize features\n",
        "    feature_columns = [col for col in features_df.columns if col != 'wallet']\n",
        "    scaler = StandardScaler()\n",
        "    X = scaler.fit_transform(features_df[feature_columns])\n",
        "\n",
        "    # Step 4: Isolation Forest for anomaly detection\n",
        "    iso_forest = IsolationForest(contamination=0.1, random_state=42)\n",
        "    anomaly_labels = iso_forest.fit_predict(X)\n",
        "    anomaly_scores = iso_forest.score_samples(X)  # Lower is more anomalous\n",
        "\n",
        "    # Step 5: K-Means for non-anomalous wallets\n",
        "    non_anomalous_mask = anomaly_labels == 1\n",
        "    X_non_anomalous = X[non_anomalous_mask]\n",
        "    kmeans = KMeans(n_clusters=5, random_state=42)\n",
        "    cluster_labels = kmeans.fit_predict(X_non_anomalous)\n",
        "\n",
        "    # Assign scores\n",
        "    scores = pd.Series(index=features_df['wallet'], dtype=float)\n",
        "\n",
        "    # Create ideal profile: max of positive features, min of negative features\n",
        "    ideal_profile = np.array([max(features_df[col]) if col in [\n",
        "        'num_deposits', 'total_deposit_usd', 'num_repays', 'total_repay_usd',\n",
        "        'repay_to_borrow_ratio', 'num_unique_assets', 'time_span'\n",
        "    ] else min(features_df[col]) for col in feature_columns])\n",
        "\n",
        "    # Standardize the ideal profile\n",
        "    ideal_profile = scaler.transform([ideal_profile])[0]\n",
        "\n",
        "    non_anomalous_wallets = features_df['wallet'][non_anomalous_mask].reset_index(drop=True)\n",
        "    X_non_anomalous_df = pd.DataFrame(X_non_anomalous, index=non_anomalous_wallets)\n",
        "\n",
        "    # Compute Euclidean distances from each wallet to the ideal profile\n",
        "    distances = X_non_anomalous_df.apply(lambda row: np.linalg.norm(row - ideal_profile), axis=1)\n",
        "\n",
        "    # Normalize distances: lower = closer to ideal\n",
        "    min_dist = distances.min()\n",
        "    max_dist = distances.max()\n",
        "\n",
        "    # Min-Max Normalisation\n",
        "    normalized_distances = (distances - min_dist) / (max_dist - min_dist + 1e-6)  # avoid zero-division\n",
        "\n",
        "    # Apply exponential decay to spread scores between 600 and 1000\n",
        "    scaled_scores = 700 + 300 * np.exp(-3 * normalized_distances)\n",
        "\n",
        "    # Assign scores to non-anomalous wallets\n",
        "    for wallet, score in zip(non_anomalous_wallets, scaled_scores):\n",
        "        scores[wallet] = round(score)\n",
        "\n",
        "    # Assign scores to anomalous wallets\n",
        "    for i, wallet in enumerate(features_df['wallet']):\n",
        "        if anomaly_labels[i] == -1:\n",
        "            score = max(0, 200 * (1 + anomaly_scores[i]))  # map to 0–200\n",
        "            scores[wallet] = round(score)\n",
        "\n",
        "    # Create output DataFrame\n",
        "    scores_df = pd.DataFrame({'wallet': scores.index, 'risk_score': scores.values})\n",
        "    # Visualize score distribution\n",
        "    scores_df['anomaly'] = ['Anomalous' if lbl == -1 else 'Normal' for lbl in anomaly_labels]\n",
        "    sns.histplot(data=scores_df, x='risk_score', hue='anomaly', bins=50, palette='Set2', multiple='stack')\n",
        "    plt.title(\"Risk Scores by Anomaly Label\")\n",
        "    plt.xlabel(\"Risk Score\")\n",
        "    plt.ylabel(\"Wallet Count\")\n",
        "    plt.grid(True)\n",
        "    plt.show()\n",
        "    return scores_df"
      ],
      "metadata": {
        "id": "vsDNt4sWPx1m"
      },
      "execution_count": 79,
      "outputs": []
    },
    {
      "cell_type": "code",
      "source": [
        "# Calling the function to fetch risk scores\n",
        "scores_df = compute_risk_scores(wallet_transactions)"
      ],
      "metadata": {
        "colab": {
          "base_uri": "https://localhost:8080/",
          "height": 527
        },
        "id": "TwNkba9bStbF",
        "outputId": "1a26f20f-244c-4cae-8745-805c519a1fd2"
      },
      "execution_count": 80,
      "outputs": [
        {
          "output_type": "stream",
          "name": "stderr",
          "text": [
            "/usr/local/lib/python3.11/dist-packages/sklearn/utils/validation.py:2739: UserWarning: X does not have valid feature names, but StandardScaler was fitted with feature names\n",
            "  warnings.warn(\n"
          ]
        },
        {
          "output_type": "display_data",
          "data": {
            "text/plain": [
              "<Figure size 640x480 with 1 Axes>"
            ],
            "image/png": "[encoded data removed]"
          },
          "metadata": {}
        }
      ]
    },
    {
      "cell_type": "code",
      "source": [
        "scores_df.head()"
      ],
      "metadata": {
        "colab": {
          "base_uri": "https://localhost:8080/",
          "height": 206
        },
        "id": "QGQYIn0DS0xp",
        "outputId": "9c10ce83-21cc-4c45-85ce-f8e3ae726f6c"
      },
      "execution_count": 81,
      "outputs": [
        {
          "output_type": "execute_result",
          "data": {
            "text/plain": [
              "                                       wallet  risk_score    anomaly\n",
              "0  0xfe5a05c0f8b24fca15a7306f6a4ebb7dcf2186ac       715.0     Normal\n",
              "1  0x7de76a449cf60ea3e111ff18b28e516d89532152       715.0     Normal\n",
              "2  0x96bb4447a02b95f1d1e85374cffd565eb22ed2f8       715.0     Normal\n",
              "3  0x4c4d05fe859279c91b074429b5fc451182cec745       715.0     Normal\n",
              "4  0x1656f1886c5ab634ac19568cd571bc72f385fdf7        54.0  Anomalous"
            ],
            "text/html": [
              "\n",
              "  <div id=\"df-ff75ae0f-6c93-4e82-8233-f30a2b6a3029\" class=\"colab-df-container\">\n",
              "    <div>\n",
              "<style scoped>\n",
              "    .dataframe tbody tr th:only-of-type {\n",
              "        vertical-align: middle;\n",
              "    }\n",
              "\n",
              "    .dataframe tbody tr th {\n",
              "        vertical-align: top;\n",
              "    }\n",
              "\n",
              "    .dataframe thead th {\n",
              "        text-align: right;\n",
              "    }\n",
              "</style>\n",
              "<table border=\"1\" class=\"dataframe\">\n",
              "  <thead>\n",
              "    <tr style=\"text-align: right;\">\n",
              "      <th></th>\n",
              "      <th>wallet</th>\n",
              "      <th>risk_score</th>\n",
              "      <th>anomaly</th>\n",
              "    </tr>\n",
              "  </thead>\n",
              "  <tbody>\n",
              "    <tr>\n",
              "      <th>0</th>\n",
              "      <td>0xfe5a05c0f8b24fca15a7306f6a4ebb7dcf2186ac</td>\n",
              "      <td>715.0</td>\n",
              "      <td>Normal</td>\n",
              "    </tr>\n",
              "    <tr>\n",
              "      <th>1</th>\n",
              "      <td>0x7de76a449cf60ea3e111ff18b28e516d89532152</td>\n",
              "      <td>715.0</td>\n",
              "      <td>Normal</td>\n",
              "    </tr>\n",
              "    <tr>\n",
              "      <th>2</th>\n",
              "      <td>0x96bb4447a02b95f1d1e85374cffd565eb22ed2f8</td>\n",
              "      <td>715.0</td>\n",
              "      <td>Normal</td>\n",
              "    </tr>\n",
              "    <tr>\n",
              "      <th>3</th>\n",
              "      <td>0x4c4d05fe859279c91b074429b5fc451182cec745</td>\n",
              "      <td>715.0</td>\n",
              "      <td>Normal</td>\n",
              "    </tr>\n",
              "    <tr>\n",
              "      <th>4</th>\n",
              "      <td>0x1656f1886c5ab634ac19568cd571bc72f385fdf7</td>\n",
              "      <td>54.0</td>\n",
              "      <td>Anomalous</td>\n",
              "    </tr>\n",
              "  </tbody>\n",
              "</table>\n",
              "</div>\n",
              "    <div class=\"colab-df-buttons\">\n",
              "\n",
              "  <div class=\"colab-df-container\">\n",
              "    <button class=\"colab-df-convert\" onclick=\"convertToInteractive('df-ff75ae0f-6c93-4e82-8233-f30a2b6a3029')\"\n",
              "            title=\"Convert this dataframe to an interactive table.\"\n",
              "            style=\"display:none;\">\n",
              "\n",
              "  <svg xmlns=\"http://www.w3.org/2000/svg\" height=\"24px\" viewBox=\"0 -960 960 960\">\n",
              "    <path d=\"M120-120v-720h720v720H120Zm60-500h600v-160H180v160Zm220 220h160v-160H400v160Zm0 220h160v-160H400v160ZM180-400h160v-160H180v160Zm440 0h160v-160H620v160ZM180-180h160v-160H180v160Zm440 0h160v-160H620v160Z\"/>\n",
              "  </svg>\n",
              "    </button>\n",
              "\n",
              "  <style>\n",
              "    .colab-df-container {\n",
              "      display:flex;\n",
              "      gap: 12px;\n",
              "    }\n",
              "\n",
              "    .colab-df-convert {\n",
              "      background-color: #E8F0FE;\n",
              "      border: none;\n",
              "      border-radius: 50%;\n",
              "      cursor: pointer;\n",
              "      display: none;\n",
              "      fill: #1967D2;\n",
              "      height: 32px;\n",
              "      padding: 0 0 0 0;\n",
              "      width: 32px;\n",
              "    }\n",
              "\n",
              "    .colab-df-convert:hover {\n",
              "      background-color: #E2EBFA;\n",
              "      box-shadow: 0px 1px 2px rgba(60, 64, 67, 0.3), 0px 1px 3px 1px rgba(60, 64, 67, 0.15);\n",
              "      fill: #174EA6;\n",
              "    }\n",
              "\n",
              "    .colab-df-buttons div {\n",
              "      margin-bottom: 4px;\n",
              "    }\n",
              "\n",
              "    [theme=dark] .colab-df-convert {\n",
              "      background-color: #3B4455;\n",
              "      fill: #D2E3FC;\n",
              "    }\n",
              "\n",
              "    [theme=dark] .colab-df-convert:hover {\n",
              "      background-color: #434B5C;\n",
              "      box-shadow: 0px 1px 3px 1px rgba(0, 0, 0, 0.15);\n",
              "      filter: drop-shadow(0px 1px 2px rgba(0, 0, 0, 0.3));\n",
              "      fill: #FFFFFF;\n",
              "    }\n",
              "  </style>\n",
              "\n",
              "    <script>\n",
              "      const buttonEl =\n",
              "        document.querySelector('#df-ff75ae0f-6c93-4e82-8233-f30a2b6a3029 button.colab-df-convert');\n",
              "      buttonEl.style.display =\n",
              "        google.colab.kernel.accessAllowed ? 'block' : 'none';\n",
              "\n",
              "      async function convertToInteractive(key) {\n",
              "        const element = document.querySelector('#df-ff75ae0f-6c93-4e82-8233-f30a2b6a3029');\n",
              "        const dataTable =\n",
              "          await google.colab.kernel.invokeFunction('convertToInteractive',\n",
              "                                                    [key], {});\n",
              "        if (!dataTable) return;\n",
              "\n",
              "        const docLinkHtml = 'Like what you see? Visit the ' +\n",
              "          '<a target=\"_blank\" href=https://colab.research.google.com/notebooks/data_table.ipynb>data table notebook</a>'\n",
              "          + ' to learn more about interactive tables.';\n",
              "        element.innerHTML = '';\n",
              "        dataTable['output_type'] = 'display_data';\n",
              "        await google.colab.output.renderOutput(dataTable, element);\n",
              "        const docLink = document.createElement('div');\n",
              "        docLink.innerHTML = docLinkHtml;\n",
              "        element.appendChild(docLink);\n",
              "      }\n",
              "    </script>\n",
              "  </div>\n",
              "\n",
              "\n",
              "    <div id=\"df-90372c50-dfb8-4d75-b1be-4bcb12be1435\">\n",
              "      <button class=\"colab-df-quickchart\" onclick=\"quickchart('df-90372c50-dfb8-4d75-b1be-4bcb12be1435')\"\n",
              "                title=\"Suggest charts\"\n",
              "                style=\"display:none;\">\n",
              "\n",
              "<svg xmlns=\"http://www.w3.org/2000/svg\" height=\"24px\"viewBox=\"0 0 24 24\"\n",
              "     width=\"24px\">\n",
              "    <g>\n",
              "        <path d=\"M19 3H5c-1.1 0-2 .9-2 2v14c0 1.1.9 2 2 2h14c1.1 0 2-.9 2-2V5c0-1.1-.9-2-2-2zM9 17H7v-7h2v7zm4 0h-2V7h2v10zm4 0h-2v-4h2v4z\"/>\n",
              "    </g>\n",
              "</svg>\n",
              "      </button>\n",
              "\n",
              "<style>\n",
              "  .colab-df-quickchart {\n",
              "      --bg-color: #E8F0FE;\n",
              "      --fill-color: #1967D2;\n",
              "      --hover-bg-color: #E2EBFA;\n",
              "      --hover-fill-color: #174EA6;\n",
              "      --disabled-fill-color: #AAA;\n",
              "      --disabled-bg-color: #DDD;\n",
              "  }\n",
              "\n",
              "  [theme=dark] .colab-df-quickchart {\n",
              "      --bg-color: #3B4455;\n",
              "      --fill-color: #D2E3FC;\n",
              "      --hover-bg-color: #434B5C;\n",
              "      --hover-fill-color: #FFFFFF;\n",
              "      --disabled-bg-color: #3B4455;\n",
              "      --disabled-fill-color: #666;\n",
              "  }\n",
              "\n",
              "  .colab-df-quickchart {\n",
              "    background-color: var(--bg-color);\n",
              "    border: none;\n",
              "    border-radius: 50%;\n",
              "    cursor: pointer;\n",
              "    display: none;\n",
              "    fill: var(--fill-color);\n",
              "    height: 32px;\n",
              "    padding: 0;\n",
              "    width: 32px;\n",
              "  }\n",
              "\n",
              "  .colab-df-quickchart:hover {\n",
              "    background-color: var(--hover-bg-color);\n",
              "    box-shadow: 0 1px 2px rgba(60, 64, 67, 0.3), 0 1px 3px 1px rgba(60, 64, 67, 0.15);\n",
              "    fill: var(--button-hover-fill-color);\n",
              "  }\n",
              "\n",
              "  .colab-df-quickchart-complete:disabled,\n",
              "  .colab-df-quickchart-complete:disabled:hover {\n",
              "    background-color: var(--disabled-bg-color);\n",
              "    fill: var(--disabled-fill-color);\n",
              "    box-shadow: none;\n",
              "  }\n",
              "\n",
              "  .colab-df-spinner {\n",
              "    border: 2px solid var(--fill-color);\n",
              "    border-color: transparent;\n",
              "    border-bottom-color: var(--fill-color);\n",
              "    animation:\n",
              "      spin 1s steps(1) infinite;\n",
              "  }\n",
              "\n",
              "  @keyframes spin {\n",
              "    0% {\n",
              "      border-color: transparent;\n",
              "      border-bottom-color: var(--fill-color);\n",
              "      border-left-color: var(--fill-color);\n",
              "    }\n",
              "    20% {\n",
              "      border-color: transparent;\n",
              "      border-left-color: var(--fill-color);\n",
              "      border-top-color: var(--fill-color);\n",
              "    }\n",
              "    30% {\n",
              "      border-color: transparent;\n",
              "      border-left-color: var(--fill-color);\n",
              "      border-top-color: var(--fill-color);\n",
              "      border-right-color: var(--fill-color);\n",
              "    }\n",
              "    40% {\n",
              "      border-color: transparent;\n",
              "      border-right-color: var(--fill-color);\n",
              "      border-top-color: var(--fill-color);\n",
              "    }\n",
              "    60% {\n",
              "      border-color: transparent;\n",
              "      border-right-color: var(--fill-color);\n",
              "    }\n",
              "    80% {\n",
              "      border-color: transparent;\n",
              "      border-right-color: var(--fill-color);\n",
              "      border-bottom-color: var(--fill-color);\n",
              "    }\n",
              "    90% {\n",
              "      border-color: transparent;\n",
              "      border-bottom-color: var(--fill-color);\n",
              "    }\n",
              "  }\n",
              "</style>\n",
              "\n",
              "      <script>\n",
              "        async function quickchart(key) {\n",
              "          const quickchartButtonEl =\n",
              "            document.querySelector('#' + key + ' button');\n",
              "          quickchartButtonEl.disabled = true;  // To prevent multiple clicks.\n",
              "          quickchartButtonEl.classList.add('colab-df-spinner');\n",
              "          try {\n",
              "            const charts = await google.colab.kernel.invokeFunction(\n",
              "                'suggestCharts', [key], {});\n",
              "          } catch (error) {\n",
              "            console.error('Error during call to suggestCharts:', error);\n",
              "          }\n",
              "          quickchartButtonEl.classList.remove('colab-df-spinner');\n",
              "          quickchartButtonEl.classList.add('colab-df-quickchart-complete');\n",
              "        }\n",
              "        (() => {\n",
              "          let quickchartButtonEl =\n",
              "            document.querySelector('#df-90372c50-dfb8-4d75-b1be-4bcb12be1435 button');\n",
              "          quickchartButtonEl.style.display =\n",
              "            google.colab.kernel.accessAllowed ? 'block' : 'none';\n",
              "        })();\n",
              "      </script>\n",
              "    </div>\n",
              "\n",
              "    </div>\n",
              "  </div>\n"
            ],
            "application/vnd.google.colaboratory.intrinsic+json": {
              "type": "dataframe",
              "variable_name": "scores_df",
              "summary": "{\n  \"name\": \"scores_df\",\n  \"rows\": 103,\n  \"fields\": [\n    {\n      \"column\": \"wallet\",\n      \"properties\": {\n        \"dtype\": \"string\",\n        \"num_unique_values\": 103,\n        \"samples\": [\n          \"0x26750f1f4277221bdb5f6991473c6ece8c821f9d\",\n          \"0xc22b8e78394ce52e0034609a67ae3c959daa84bc\",\n          \"0xcbbd9fe837a14258286bbf2e182cbc4e4518c5a3\"\n        ],\n        \"semantic_type\": \"\",\n        \"description\": \"\"\n      }\n    },\n    {\n      \"column\": \"risk_score\",\n      \"properties\": {\n        \"dtype\": \"number\",\n        \"std\": 205.5878669233191,\n        \"min\": 45.0,\n        \"max\": 1000.0,\n        \"num_unique_values\": 23,\n        \"samples\": [\n          717.0,\n          77.0,\n          715.0\n        ],\n        \"semantic_type\": \"\",\n        \"description\": \"\"\n      }\n    },\n    {\n      \"column\": \"anomaly\",\n      \"properties\": {\n        \"dtype\": \"category\",\n        \"num_unique_values\": 2,\n        \"samples\": [\n          \"Anomalous\",\n          \"Normal\"\n        ],\n        \"semantic_type\": \"\",\n        \"description\": \"\"\n      }\n    }\n  ]\n}"
            }
          },
          "metadata": {},
          "execution_count": 81
        }
      ]
    },
    {
      "source": [
        "from matplotlib import pyplot as plt\n",
        "import seaborn as sns\n",
        "scores_df.groupby('anomaly').size().plot(kind='barh', color=sns.palettes.mpl_palette('Dark2'))\n",
        "plt.gca().spines[['top', 'right',]].set_visible(False)"
      ],
      "cell_type": "code",
      "execution_count": 82,
      "outputs": [
        {
          "output_type": "display_data",
          "data": {
            "text/plain": [
              "<Figure size 640x480 with 1 Axes>"
            ],
            "image/png": "[encoded data removed]"
          },
          "metadata": {}
        }
      ],
      "metadata": {
        "colab": {
          "base_uri": "https://localhost:8080/",
          "height": 430
        },
        "id": "PUIBtbmjVPaR",
        "outputId": "ebf244e5-7ab7-4718-ec40-954ea1fbc053"
      }
    },
    {
      "cell_type": "markdown",
      "source": [
        "## **Our Final Dataframe with Results**"
      ],
      "metadata": {
        "id": "G_fSg0UOZH88"
      }
    },
    {
      "cell_type": "code",
      "source": [
        "df_final = scores_df.drop(columns=['anomaly'])\n",
        "df_final.head()"
      ],
      "metadata": {
        "colab": {
          "base_uri": "https://localhost:8080/",
          "height": 206
        },
        "id": "mMJggGSrY9Rp",
        "outputId": "a81ad278-050d-4c56-87aa-6bf8e9f6c1f8"
      },
      "execution_count": 83,
      "outputs": [
        {
          "output_type": "execute_result",
          "data": {
            "text/plain": [
              "                                       wallet  risk_score\n",
              "0  0xfe5a05c0f8b24fca15a7306f6a4ebb7dcf2186ac       715.0\n",
              "1  0x7de76a449cf60ea3e111ff18b28e516d89532152       715.0\n",
              "2  0x96bb4447a02b95f1d1e85374cffd565eb22ed2f8       715.0\n",
              "3  0x4c4d05fe859279c91b074429b5fc451182cec745       715.0\n",
              "4  0x1656f1886c5ab634ac19568cd571bc72f385fdf7        54.0"
            ],
            "text/html": [
              "\n",
              "  <div id=\"df-139e286c-d4b9-42c0-aa1f-d4f6c0518b59\" class=\"colab-df-container\">\n",
              "    <div>\n",
              "<style scoped>\n",
              "    .dataframe tbody tr th:only-of-type {\n",
              "        vertical-align: middle;\n",
              "    }\n",
              "\n",
              "    .dataframe tbody tr th {\n",
              "        vertical-align: top;\n",
              "    }\n",
              "\n",
              "    .dataframe thead th {\n",
              "        text-align: right;\n",
              "    }\n",
              "</style>\n",
              "<table border=\"1\" class=\"dataframe\">\n",
              "  <thead>\n",
              "    <tr style=\"text-align: right;\">\n",
              "      <th></th>\n",
              "      <th>wallet</th>\n",
              "      <th>risk_score</th>\n",
              "    </tr>\n",
              "  </thead>\n",
              "  <tbody>\n",
              "    <tr>\n",
              "      <th>0</th>\n",
              "      <td>0xfe5a05c0f8b24fca15a7306f6a4ebb7dcf2186ac</td>\n",
              "      <td>715.0</td>\n",
              "    </tr>\n",
              "    <tr>\n",
              "      <th>1</th>\n",
              "      <td>0x7de76a449cf60ea3e111ff18b28e516d89532152</td>\n",
              "      <td>715.0</td>\n",
              "    </tr>\n",
              "    <tr>\n",
              "      <th>2</th>\n",
              "      <td>0x96bb4447a02b95f1d1e85374cffd565eb22ed2f8</td>\n",
              "      <td>715.0</td>\n",
              "    </tr>\n",
              "    <tr>\n",
              "      <th>3</th>\n",
              "      <td>0x4c4d05fe859279c91b074429b5fc451182cec745</td>\n",
              "      <td>715.0</td>\n",
              "    </tr>\n",
              "    <tr>\n",
              "      <th>4</th>\n",
              "      <td>0x1656f1886c5ab634ac19568cd571bc72f385fdf7</td>\n",
              "      <td>54.0</td>\n",
              "    </tr>\n",
              "  </tbody>\n",
              "</table>\n",
              "</div>\n",
              "    <div class=\"colab-df-buttons\">\n",
              "\n",
              "  <div class=\"colab-df-container\">\n",
              "    <button class=\"colab-df-convert\" onclick=\"convertToInteractive('df-139e286c-d4b9-42c0-aa1f-d4f6c0518b59')\"\n",
              "            title=\"Convert this dataframe to an interactive table.\"\n",
              "            style=\"display:none;\">\n",
              "\n",
              "  <svg xmlns=\"http://www.w3.org/2000/svg\" height=\"24px\" viewBox=\"0 -960 960 960\">\n",
              "    <path d=\"M120-120v-720h720v720H120Zm60-500h600v-160H180v160Zm220 220h160v-160H400v160Zm0 220h160v-160H400v160ZM180-400h160v-160H180v160Zm440 0h160v-160H620v160ZM180-180h160v-160H180v160Zm440 0h160v-160H620v160Z\"/>\n",
              "  </svg>\n",
              "    </button>\n",
              "\n",
              "  <style>\n",
              "    .colab-df-container {\n",
              "      display:flex;\n",
              "      gap: 12px;\n",
              "    }\n",
              "\n",
              "    .colab-df-convert {\n",
              "      background-color: #E8F0FE;\n",
              "      border: none;\n",
              "      border-radius: 50%;\n",
              "      cursor: pointer;\n",
              "      display: none;\n",
              "      fill: #1967D2;\n",
              "      height: 32px;\n",
              "      padding: 0 0 0 0;\n",
              "      width: 32px;\n",
              "    }\n",
              "\n",
              "    .colab-df-convert:hover {\n",
              "      background-color: #E2EBFA;\n",
              "      box-shadow: 0px 1px 2px rgba(60, 64, 67, 0.3), 0px 1px 3px 1px rgba(60, 64, 67, 0.15);\n",
              "      fill: #174EA6;\n",
              "    }\n",
              "\n",
              "    .colab-df-buttons div {\n",
              "      margin-bottom: 4px;\n",
              "    }\n",
              "\n",
              "    [theme=dark] .colab-df-convert {\n",
              "      background-color: #3B4455;\n",
              "      fill: #D2E3FC;\n",
              "    }\n",
              "\n",
              "    [theme=dark] .colab-df-convert:hover {\n",
              "      background-color: #434B5C;\n",
              "      box-shadow: 0px 1px 3px 1px rgba(0, 0, 0, 0.15);\n",
              "      filter: drop-shadow(0px 1px 2px rgba(0, 0, 0, 0.3));\n",
              "      fill: #FFFFFF;\n",
              "    }\n",
              "  </style>\n",
              "\n",
              "    <script>\n",
              "      const buttonEl =\n",
              "        document.querySelector('#df-139e286c-d4b9-42c0-aa1f-d4f6c0518b59 button.colab-df-convert');\n",
              "      buttonEl.style.display =\n",
              "        google.colab.kernel.accessAllowed ? 'block' : 'none';\n",
              "\n",
              "      async function convertToInteractive(key) {\n",
              "        const element = document.querySelector('#df-139e286c-d4b9-42c0-aa1f-d4f6c0518b59');\n",
              "        const dataTable =\n",
              "          await google.colab.kernel.invokeFunction('convertToInteractive',\n",
              "                                                    [key], {});\n",
              "        if (!dataTable) return;\n",
              "\n",
              "        const docLinkHtml = 'Like what you see? Visit the ' +\n",
              "          '<a target=\"_blank\" href=https://colab.research.google.com/notebooks/data_table.ipynb>data table notebook</a>'\n",
              "          + ' to learn more about interactive tables.';\n",
              "        element.innerHTML = '';\n",
              "        dataTable['output_type'] = 'display_data';\n",
              "        await google.colab.output.renderOutput(dataTable, element);\n",
              "        const docLink = document.createElement('div');\n",
              "        docLink.innerHTML = docLinkHtml;\n",
              "        element.appendChild(docLink);\n",
              "      }\n",
              "    </script>\n",
              "  </div>\n",
              "\n",
              "\n",
              "    <div id=\"df-bd000315-0a29-417b-b61b-d90287931625\">\n",
              "      <button class=\"colab-df-quickchart\" onclick=\"quickchart('df-bd000315-0a29-417b-b61b-d90287931625')\"\n",
              "                title=\"Suggest charts\"\n",
              "                style=\"display:none;\">\n",
              "\n",
              "<svg xmlns=\"http://www.w3.org/2000/svg\" height=\"24px\"viewBox=\"0 0 24 24\"\n",
              "     width=\"24px\">\n",
              "    <g>\n",
              "        <path d=\"M19 3H5c-1.1 0-2 .9-2 2v14c0 1.1.9 2 2 2h14c1.1 0 2-.9 2-2V5c0-1.1-.9-2-2-2zM9 17H7v-7h2v7zm4 0h-2V7h2v10zm4 0h-2v-4h2v4z\"/>\n",
              "    </g>\n",
              "</svg>\n",
              "      </button>\n",
              "\n",
              "<style>\n",
              "  .colab-df-quickchart {\n",
              "      --bg-color: #E8F0FE;\n",
              "      --fill-color: #1967D2;\n",
              "      --hover-bg-color: #E2EBFA;\n",
              "      --hover-fill-color: #174EA6;\n",
              "      --disabled-fill-color: #AAA;\n",
              "      --disabled-bg-color: #DDD;\n",
              "  }\n",
              "\n",
              "  [theme=dark] .colab-df-quickchart {\n",
              "      --bg-color: #3B4455;\n",
              "      --fill-color: #D2E3FC;\n",
              "      --hover-bg-color: #434B5C;\n",
              "      --hover-fill-color: #FFFFFF;\n",
              "      --disabled-bg-color: #3B4455;\n",
              "      --disabled-fill-color: #666;\n",
              "  }\n",
              "\n",
              "  .colab-df-quickchart {\n",
              "    background-color: var(--bg-color);\n",
              "    border: none;\n",
              "    border-radius: 50%;\n",
              "    cursor: pointer;\n",
              "    display: none;\n",
              "    fill: var(--fill-color);\n",
              "    height: 32px;\n",
              "    padding: 0;\n",
              "    width: 32px;\n",
              "  }\n",
              "\n",
              "  .colab-df-quickchart:hover {\n",
              "    background-color: var(--hover-bg-color);\n",
              "    box-shadow: 0 1px 2px rgba(60, 64, 67, 0.3), 0 1px 3px 1px rgba(60, 64, 67, 0.15);\n",
              "    fill: var(--button-hover-fill-color);\n",
              "  }\n",
              "\n",
              "  .colab-df-quickchart-complete:disabled,\n",
              "  .colab-df-quickchart-complete:disabled:hover {\n",
              "    background-color: var(--disabled-bg-color);\n",
              "    fill: var(--disabled-fill-color);\n",
              "    box-shadow: none;\n",
              "  }\n",
              "\n",
              "  .colab-df-spinner {\n",
              "    border: 2px solid var(--fill-color);\n",
              "    border-color: transparent;\n",
              "    border-bottom-color: var(--fill-color);\n",
              "    animation:\n",
              "      spin 1s steps(1) infinite;\n",
              "  }\n",
              "\n",
              "  @keyframes spin {\n",
              "    0% {\n",
              "      border-color: transparent;\n",
              "      border-bottom-color: var(--fill-color);\n",
              "      border-left-color: var(--fill-color);\n",
              "    }\n",
              "    20% {\n",
              "      border-color: transparent;\n",
              "      border-left-color: var(--fill-color);\n",
              "      border-top-color: var(--fill-color);\n",
              "    }\n",
              "    30% {\n",
              "      border-color: transparent;\n",
              "      border-left-color: var(--fill-color);\n",
              "      border-top-color: var(--fill-color);\n",
              "      border-right-color: var(--fill-color);\n",
              "    }\n",
              "    40% {\n",
              "      border-color: transparent;\n",
              "      border-right-color: var(--fill-color);\n",
              "      border-top-color: var(--fill-color);\n",
              "    }\n",
              "    60% {\n",
              "      border-color: transparent;\n",
              "      border-right-color: var(--fill-color);\n",
              "    }\n",
              "    80% {\n",
              "      border-color: transparent;\n",
              "      border-right-color: var(--fill-color);\n",
              "      border-bottom-color: var(--fill-color);\n",
              "    }\n",
              "    90% {\n",
              "      border-color: transparent;\n",
              "      border-bottom-color: var(--fill-color);\n",
              "    }\n",
              "  }\n",
              "</style>\n",
              "\n",
              "      <script>\n",
              "        async function quickchart(key) {\n",
              "          const quickchartButtonEl =\n",
              "            document.querySelector('#' + key + ' button');\n",
              "          quickchartButtonEl.disabled = true;  // To prevent multiple clicks.\n",
              "          quickchartButtonEl.classList.add('colab-df-spinner');\n",
              "          try {\n",
              "            const charts = await google.colab.kernel.invokeFunction(\n",
              "                'suggestCharts', [key], {});\n",
              "          } catch (error) {\n",
              "            console.error('Error during call to suggestCharts:', error);\n",
              "          }\n",
              "          quickchartButtonEl.classList.remove('colab-df-spinner');\n",
              "          quickchartButtonEl.classList.add('colab-df-quickchart-complete');\n",
              "        }\n",
              "        (() => {\n",
              "          let quickchartButtonEl =\n",
              "            document.querySelector('#df-bd000315-0a29-417b-b61b-d90287931625 button');\n",
              "          quickchartButtonEl.style.display =\n",
              "            google.colab.kernel.accessAllowed ? 'block' : 'none';\n",
              "        })();\n",
              "      </script>\n",
              "    </div>\n",
              "\n",
              "    </div>\n",
              "  </div>\n"
            ],
            "application/vnd.google.colaboratory.intrinsic+json": {
              "type": "dataframe",
              "variable_name": "df_final",
              "summary": "{\n  \"name\": \"df_final\",\n  \"rows\": 103,\n  \"fields\": [\n    {\n      \"column\": \"wallet\",\n      \"properties\": {\n        \"dtype\": \"string\",\n        \"num_unique_values\": 103,\n        \"samples\": [\n          \"0x26750f1f4277221bdb5f6991473c6ece8c821f9d\",\n          \"0xc22b8e78394ce52e0034609a67ae3c959daa84bc\",\n          \"0xcbbd9fe837a14258286bbf2e182cbc4e4518c5a3\"\n        ],\n        \"semantic_type\": \"\",\n        \"description\": \"\"\n      }\n    },\n    {\n      \"column\": \"risk_score\",\n      \"properties\": {\n        \"dtype\": \"number\",\n        \"std\": 205.5878669233191,\n        \"min\": 45.0,\n        \"max\": 1000.0,\n        \"num_unique_values\": 23,\n        \"samples\": [\n          717.0,\n          77.0,\n          715.0\n        ],\n        \"semantic_type\": \"\",\n        \"description\": \"\"\n      }\n    }\n  ]\n}"
            }
          },
          "metadata": {},
          "execution_count": 83
        }
      ]
    },
    {
      "cell_type": "code",
      "source": [
        "# df_final.to_csv('risk_scores.csv', index=False)"
      ],
      "metadata": {
        "id": "kqEwVko3FUAh"
      },
      "execution_count": 67,
      "outputs": []
    }
  ]
}